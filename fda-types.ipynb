{
 "cells": [
  {
   "cell_type": "code",
   "execution_count": null,
   "metadata": {},
   "outputs": [
    {
     "data": {
      "text/html": [
       "<script>Jupyter.notebook.kernel.restart()</script>"
      ]
     },
     "metadata": {},
     "output_type": "display_data"
    }
   ],
   "source": [
    "from IPython.core.display import display_html\n",
    "display_html(\"<script>Jupyter.notebook.kernel.restart()</script>\",raw=True)"
   ]
  },
  {
   "cell_type": "code",
   "execution_count": 1,
   "metadata": {},
   "outputs": [
    {
     "data": {
      "text/html": [
       "<style>.container { width:100% !important; }</style>"
      ],
      "text/plain": [
       "<IPython.core.display.HTML object>"
      ]
     },
     "metadata": {},
     "output_type": "display_data"
    },
    {
     "data": {
      "text/html": [
       "<style>.container { width:100% !important; }</style>"
      ],
      "text/plain": [
       "<IPython.core.display.HTML object>"
      ]
     },
     "metadata": {},
     "output_type": "display_data"
    }
   ],
   "source": [
    "from sys import path; path.insert(1,\"../src\");\n",
    "import fubar; from importlib import reload; reload(fubar);"
   ]
  },
  {
   "cell_type": "markdown",
   "metadata": {},
   "source": [
    "***\n",
    "< [GMIT Data Analytics](https://web.archive.org/web/20201029063153/https://www.gmit.ie/computer-science-and-applied-physics/higher-diploma-science-computing-data-analytics-ict) | [Home](https://github.com/SeanOhAileasa) | [README](https://github.com/SeanOhAileasa/fda-types/blob/main/README.md) >\n",
    "\n",
    "[![GMIT](https://github.com/SeanOhAileasa/SeanOhAileasa/blob/master/rc/gmit.png?raw=true)](https://web.archive.org/web/20201029063153/https://www.gmit.ie/computer-science-and-applied-physics/higher-diploma-science-computing-data-analytics-ict)\n",
    "\n",
    "## Fundamentals of Data Analysis - Course Material 2020\n",
    "### Topic: [Types](https://nbviewer.jupyter.org/github/SeanOhAileasa/fda-types/blob/main/fda-types.ipynb)\n",
    "\n",
    "Course material for the ``Fundamentals of Data Analysis`` module (5 Credits) of the ``Higher Diploma in Science in Computing (Data Analytics) (H.Dip)`` programme (75 Credits) at **Galway-Mayo Institute of Technology (GMIT)**.\n",
    "***"
   ]
  },
  {
   "cell_type": "markdown",
   "metadata": {},
   "source": [
    "- referenced external link - [Machine Learning & Statistics](https://nbviewer.jupyter.org/github/SeanOhAileasa/mls-machine-learning-statistics/blob/main/mls-machine-learning-statistics.ipynb)"
   ]
  },
  {
   "cell_type": "markdown",
   "metadata": {},
   "source": [
    "<a id=\"top\"></a>\n",
    "***\n",
    "## Table of Contents\n",
    "***\n",
    "\n",
    "## [Abstract](#abstract)\n",
    "\n",
    "###### Keywords: integer; float; string\n",
    "\n",
    "## [Introduction](#introduction)\n",
    "\n",
    "###### Keywords: names; variable types\n",
    "\n",
    "## [Solution](#solution)\n",
    "\n",
    "###### Keywords: integer; float; string; types; translating human ideas; binary representation; binary; decimal; bit; mantissa; accuracy; real numbers; integer trick\n",
    "\n",
    "###### Built-in: type; bin; join; map; bytearray\n",
    "\n",
    "###### (A) Standard Library (a_S_tandard_L_ibrary-imports): struct - unpack - pack\n",
    "\n",
    "## [Conclusion](#conclusion)\n",
    "\n",
    "###### Keywords: types for humans"
   ]
  },
  {
   "cell_type": "markdown",
   "metadata": {},
   "source": [
    "***\n",
    "## END"
   ]
  },
  {
   "cell_type": "markdown",
   "metadata": {},
   "source": [
    "< [Table of Contents](#top) | [Abstract](#abstract) | [Introduction](#introduction) | [Solution](#solution) | [Conclusion](#conclusion) | [References](#references) >\n",
    "<a id=\"abstract\"></a>\n",
    "***\n",
    "## Abstract\n",
    "***"
   ]
  },
  {
   "cell_type": "markdown",
   "metadata": {},
   "source": [
    "- three basic types that programming languages have built into them - integer - float - string [1]"
   ]
  },
  {
   "cell_type": "markdown",
   "metadata": {},
   "source": [
    "- looking up the documentation for different programming languages and will see a lot more than three basic types - but generally speaking - they are all variants on three basic ideas [1]"
   ]
  },
  {
   "cell_type": "markdown",
   "metadata": {},
   "source": [
    "***\n",
    "## END"
   ]
  },
  {
   "cell_type": "markdown",
   "metadata": {},
   "source": [
    "< [Table of Contents](#top) | [Abstract](#abstract) | [Introduction](#introduction) | [Solution](#solution) | [Conclusion](#conclusion) | [References](#references) >\n",
    "<a id=\"introduction\"></a>\n",
    "***\n",
    "## Introduction\n",
    "***"
   ]
  },
  {
   "cell_type": "markdown",
   "metadata": {},
   "source": [
    "- do not have to tell python - type of variable - in fact python does not have variables - names - the type is actually stored with the - value - and not with the - name - whereas in other programming languages like - Java or C - the variables have types rather than values having types - but it does not make any difference - python still uses types in the background [1]"
   ]
  },
  {
   "cell_type": "markdown",
   "metadata": {},
   "source": [
    "***\n",
    "## END"
   ]
  },
  {
   "cell_type": "markdown",
   "metadata": {},
   "source": [
    "< [Table of Contents](#top) | [Abstract](#abstract) | [Introduction](#introduction) | [Solution](#solution) | [Conclusion](#conclusion) | [References](#references) >\n",
    "<a id=\"solution\"></a>\n",
    "***\n",
    "## Solution\n",
    "***\n",
    "### Table of Contents\n",
    "\n",
    "* [Integer](#integer)\n",
    "* [Float](#float)\n",
    "* [String](#string)\n",
    "* [Type](#type)\n",
    "* [Binary-Representation](#binary-representation)\n",
    "***"
   ]
  },
  {
   "cell_type": "markdown",
   "metadata": {},
   "source": [
    "< [Table of Contents](#solution) | [References](#references) >\n",
    "<a id=\"integer\"></a>\n",
    "***\n",
    "###### Integer\n",
    "***"
   ]
  },
  {
   "cell_type": "markdown",
   "metadata": {},
   "source": [
    "- ``i=1`` - python goes off and if it does not know the name - ``i`` - creates a new name - ``i`` - thats getting the value of $1$ - python interprets as an integer - no decimal places - looks like a number - bog standard number - going to store that as an integer - stored in memory - name - ``i`` - value - $1$ [1]"
   ]
  },
  {
   "cell_type": "code",
   "execution_count": 1,
   "metadata": {},
   "outputs": [],
   "source": [
    "i=1"
   ]
  },
  {
   "cell_type": "markdown",
   "metadata": {},
   "source": [
    "< [Table of Contents](#solution) | [References](#references) >\n",
    "<a id=\"float\"></a>\n",
    "***\n",
    "###### Float\n",
    "***"
   ]
  },
  {
   "cell_type": "markdown",
   "metadata": {},
   "source": [
    "- on the other hand creating - name - `f` - this time rather than just writing $1$ - write it as $1.0$ [1]"
   ]
  },
  {
   "cell_type": "markdown",
   "metadata": {},
   "source": [
    "- as humans we probably think of those as kind of the same value - they represent the same quantity in some sense but because a decimal point is input then python asks if this will possibly be used in the future [1]"
   ]
  },
  {
   "cell_type": "markdown",
   "metadata": {},
   "source": [
    "- integers cannot store decimal places so python will store this typically as a - ``float`` - floating point number - there is a standard as to how floating point numbers are stored in computers - most programming languages conform to that standard [1]"
   ]
  },
  {
   "cell_type": "code",
   "execution_count": 2,
   "metadata": {},
   "outputs": [],
   "source": [
    "f=1.0"
   ]
  },
  {
   "cell_type": "markdown",
   "metadata": {},
   "source": [
    "< [Table of Contents](#solution) | [References](#references) >\n",
    "<a id=\"string\"></a>\n",
    "***\n",
    "###### String\n",
    "***"
   ]
  },
  {
   "cell_type": "markdown",
   "metadata": {},
   "source": [
    "- could store the character one in double quotes - name - `s` - for string - some programming languages have the idea of characters - a character is just a letter - a punctuation mark or whatever - python does not use that idea - but in any case python does have strings - this is just a string that contains the character - `\"1\"`- not the number - $1$ - there is a difference - python expects us to use this as a character rather than as a value for doing some sort of calculation [1]"
   ]
  },
  {
   "cell_type": "code",
   "execution_count": 3,
   "metadata": {},
   "outputs": [],
   "source": [
    "s=\"1\""
   ]
  },
  {
   "cell_type": "markdown",
   "metadata": {},
   "source": [
    "< [Table of Contents](#solution) | [References](#references) >\n",
    "<a id=\"type\"></a>\n",
    "***\n",
    "###### Type\n",
    "***"
   ]
  },
  {
   "cell_type": "markdown",
   "metadata": {},
   "source": [
    "- might ask why do we have types and do they have any basis in reality - why do programming languages have types built in - is this just the way it is - is this just the way data is presented in the real world [1]"
   ]
  },
  {
   "cell_type": "markdown",
   "metadata": {},
   "source": [
    "- not specific to python or programming languages in general - not true - actually all just veneer on top of what the computer is actually doing [1]"
   ]
  },
  {
   "cell_type": "markdown",
   "metadata": {},
   "source": [
    "- types in python look like functions - the type of whatever the - name - is and how its stored - `i` is going to be - ``int`` - `f` - is going to be ``float`` - `s` - is going to be ``str`` [1]"
   ]
  },
  {
   "cell_type": "code",
   "execution_count": 4,
   "metadata": {},
   "outputs": [
    {
     "data": {
      "text/plain": [
       "int"
      ]
     },
     "execution_count": 4,
     "metadata": {},
     "output_type": "execute_result"
    }
   ],
   "source": [
    "type(i)"
   ]
  },
  {
   "cell_type": "code",
   "execution_count": 5,
   "metadata": {},
   "outputs": [
    {
     "data": {
      "text/plain": [
       "float"
      ]
     },
     "execution_count": 5,
     "metadata": {},
     "output_type": "execute_result"
    }
   ],
   "source": [
    "type(f)"
   ]
  },
  {
   "cell_type": "code",
   "execution_count": 6,
   "metadata": {},
   "outputs": [
    {
     "data": {
      "text/plain": [
       "str"
      ]
     },
     "execution_count": 6,
     "metadata": {},
     "output_type": "execute_result"
    }
   ],
   "source": [
    "type(s)"
   ]
  },
  {
   "cell_type": "markdown",
   "metadata": {},
   "source": [
    "- there are built in types to python - creator who designed the lanaguage - who created the program - decided that - `int` - was a reasonable type - `float` - was a reasonable type - `str` - was a reasonable type - people will be interested in using python to deal with integers - floating point numbers - strings [1]"
   ]
  },
  {
   "cell_type": "markdown",
   "metadata": {},
   "source": [
    "- types change what the basic operations in python do - need to know about types - different things happen - string - `s` - multiplied by ten - just gives you 10 ones in a row - why does it do that - whoever designed python decided that this was the appropriate thing to do - result of an operation should be get 10 copies of that string - put into another string [1]"
   ]
  },
  {
   "cell_type": "code",
   "execution_count": 7,
   "metadata": {},
   "outputs": [
    {
     "data": {
      "text/plain": [
       "'1111111111'"
      ]
     },
     "execution_count": 7,
     "metadata": {},
     "output_type": "execute_result"
    }
   ],
   "source": [
    "s*10"
   ]
  },
  {
   "cell_type": "markdown",
   "metadata": {},
   "source": [
    "- in all programming language data types are important - help humans to be more efficient and to make sure not to get unexpected results out of basic operations [1]"
   ]
  },
  {
   "cell_type": "markdown",
   "metadata": {},
   "source": [
    "- crucial point - really exposes the fact that the computer does not care about types - whoever designed python decided that types was a good idea - when the computer encounters operations like - `i*10` - `f*10` - `s*10` - these operations call on your computer processor to do something - when run these high level statements that we like to look at as humans - interpret as human - maybe my processor does not know how to perform these instructions - might be translated into 10 different instructions - a little algorithm that my processor does not understand albeit the operations gives me the effect of it multiplying by ten [1]"
   ]
  },
  {
   "cell_type": "markdown",
   "metadata": {},
   "source": [
    "- as a human thats what programming languages are about - a way of translating human ideas into computer ideas - a kind of a halfway house between the human - multiply by 10 and whatever the computer processor needs to do - give me the effect of - `i*10` [1]"
   ]
  },
  {
   "cell_type": "markdown",
   "metadata": {},
   "source": [
    "- certain processors have built in instructions for floating point numbers - just a purpose built feature of certain processors [1]"
   ]
  },
  {
   "cell_type": "markdown",
   "metadata": {},
   "source": [
    "- certainly with strings - CPU does not know the difference between a string and an integer - python is keeping track of this - the logic behind the difference between integers and floating point numbers - strings are sort of built into python - not into the computer - python is just a piece of software [1]"
   ]
  },
  {
   "cell_type": "markdown",
   "metadata": {},
   "source": [
    "< [Table of Contents](#solution) | [References](#references) >\n",
    "<a id=\"binary-representation\"></a>\n",
    "***\n",
    "###### Binary Representation\n",
    "***"
   ]
  },
  {
   "cell_type": "markdown",
   "metadata": {},
   "source": [
    "- given python is quite a high level language - can be a little bit harder to find the bits that are behind the scenes on certain types - integers are actually quite straightforward - function - bin - will just turn an integer like - `i` - which contains - `123` - into its binary format - this is pretty much what it is stored like on the computer albeit not 100% - there is only seven bits here whereas it is probably stored as a 64-bit integer - the zero at the front - common way people use to indicate that the following is an integer in binary format [1]"
   ]
  },
  {
   "cell_type": "code",
   "execution_count": 8,
   "metadata": {},
   "outputs": [],
   "source": [
    "i=123"
   ]
  },
  {
   "cell_type": "markdown",
   "metadata": {},
   "source": [
    "- value - `123` - stored without the leading zeros as - `1111011` [1]"
   ]
  },
  {
   "cell_type": "markdown",
   "metadata": {},
   "source": [
    "- rightmost - `1` - like in decimal means one unit - second rightmost - `1` - $2^{1}*1$ -  third rightmost - `0` - $2^{2}*0$ - fourth rightmost - `1` - $2^{3}*1$ - fifth rightmost - `1` - $2^{4}*1$ - sixth rightmost - `1` - $2^{5}*1$ - seventh rightmost - `1` - $2^{6}*1$ - eight rightmost - `1` - $2^{7}*1$ - when you add them into the mix you get - `123` - integers are stored in a very straightforward format [1]"
   ]
  },
  {
   "cell_type": "code",
   "execution_count": 9,
   "metadata": {},
   "outputs": [
    {
     "data": {
      "text/plain": [
       "'0b1111011'"
      ]
     },
     "execution_count": 9,
     "metadata": {},
     "output_type": "execute_result"
    }
   ],
   "source": [
    "bin(i)"
   ]
  },
  {
   "cell_type": "markdown",
   "metadata": {},
   "source": [
    "- programming languages - are very specific - always get back whatever is put into an integer - as long as it can fit in to however many bits the integer takes up - sometimes integers take up 8-bits - sometimes 16-bits - sometimes 32-bits - depends on the programming language - compiler - generally speaking integers are very straightforward - for smaller values at least that fit in the number of bits available [1]"
   ]
  },
  {
   "cell_type": "markdown",
   "metadata": {},
   "source": [
    "![octhexdec](https://github.com/SeanOhAileasa/SeanOhAileasa/blob/master/rc/fda/types/octhexdec.png?raw=true)"
   ]
  },
  {
   "cell_type": "markdown",
   "metadata": {},
   "source": [
    "- in python it is a little tricky to get out the bits that are actually stored - different values - one in binary looks the exact same as one in decimal - just a $1$ - creating a different number - `123` - import package - `struct` - standard module - comes in the standard library in python [1]"
   ]
  },
  {
   "cell_type": "markdown",
   "metadata": {},
   "source": [
    "- it is a little bit harder to find the bits that represent float - module - ``struct`` - will spit out how - `f` - is stored in binary - it is a lot more complex than the integer - storing - ``123`` [1]"
   ]
  },
  {
   "cell_type": "markdown",
   "metadata": {},
   "source": [
    "- the integer just has 7-bits - whereas there a lot more bits taken up by the float - `f` - probably stored in 64-bits albeit the integer - `i` - is also probably stored in 64-bits but the leading zeros have been removed - the floating point number is more complex [1]"
   ]
  },
  {
   "cell_type": "markdown",
   "metadata": {},
   "source": [
    "- floating point numbers use a different mechanism to translate the number that is liked by humans - base-10 - decimal number - `123.0` - storing it as an integer - it goes into a certain list of bits - storing as a floating point number it is represented as different bits - it is still totally systematic - asking what was the value in - name - `f` - you will get back out - `123.0` [1]"
   ]
  },
  {
   "cell_type": "code",
   "execution_count": 10,
   "metadata": {},
   "outputs": [],
   "source": [
    "f=123.0"
   ]
  },
  {
   "cell_type": "code",
   "execution_count": 11,
   "metadata": {},
   "outputs": [
    {
     "data": {
      "text/plain": [
       "123.0"
      ]
     },
     "execution_count": 11,
     "metadata": {},
     "output_type": "execute_result"
    }
   ],
   "source": [
    "f"
   ]
  },
  {
   "cell_type": "code",
   "execution_count": 12,
   "metadata": {},
   "outputs": [],
   "source": [
    "# a_S_tandard_L_ibrary-imports\n",
    "import struct"
   ]
  },
  {
   "cell_type": "code",
   "execution_count": 13,
   "metadata": {},
   "outputs": [
    {
     "data": {
      "text/plain": [
       "'0b1000010111101100000000000000000'"
      ]
     },
     "execution_count": 13,
     "metadata": {},
     "output_type": "execute_result"
    }
   ],
   "source": [
    "# module struct - function unpack - call - function pack - call\n",
    "bin(struct.unpack(\"!i\",struct.pack(\"!f\",f))[0])"
   ]
  },
  {
   "cell_type": "markdown",
   "metadata": {},
   "source": [
    "- caveat - floating point numbers - sometimes stored with a finite number of ones and zeros which means they have a finite limit to how many decimal places they can store - IEEE standard exists - python adheres - specifies how to store numbers with decimal places on a computer - punch line - depending on the number - the size of the number - there is different accuracy to the value stored in floating point numbers - if a huge mantissa exists - part of a floating-point number which represents the significant digits of that number - numbers after the decimal place - sometimes will get back a rounded number - losing some of the accuracy of the number - losing some of the decimal places - this is the downside to floating point numbers [1]"
   ]
  },
  {
   "cell_type": "markdown",
   "metadata": {},
   "source": [
    "- tend to be harder to - multiply - add etc - cannot actually store what might be called real numbers - cannot store numbers like - $\\pi$ - that has an infinite number of decimal places after the decimal point - never going to store - $\\pi$ - in a floating point number because a floating point number has a fixed number of bits - $\\pi$ - has an infinite number of bits to be stored [1]"
   ]
  },
  {
   "cell_type": "markdown",
   "metadata": {},
   "source": [
    "- floating point numbers essentially are a trick for integers to store decimal places - thats the best way to think of a floating point number - it is a trick - integers are fine - they can be stored as long as they are small - even huge numbers can be stored on a computer provided enough memory exists but floating point numbers are a trick and are actually integers in some sense - gamed to be split up into the part before the decimal place and the part after the decimal place - just need to know that floating point numbers are stored in a more complex format of typically 64 ones and zeros [1]"
   ]
  },
  {
   "cell_type": "markdown",
   "metadata": {},
   "source": [
    "- number - `123` - in a string - not really a number at all - it is the character - `\"1\"` - followed by character - `\"2\"` - followed by character - `\"3\"` - three different sets of ones and zeros [1]"
   ]
  },
  {
   "cell_type": "code",
   "execution_count": 14,
   "metadata": {},
   "outputs": [],
   "source": [
    "s=\"123\""
   ]
  },
  {
   "cell_type": "code",
   "execution_count": 15,
   "metadata": {},
   "outputs": [
    {
     "data": {
      "text/plain": [
       "'0b110001 0b110010 0b110011'"
      ]
     },
     "execution_count": 15,
     "metadata": {},
     "output_type": "execute_result"
    }
   ],
   "source": [
    "\" \".join(map(bin,bytearray(s,\"ascii\")))"
   ]
  },
  {
   "cell_type": "markdown",
   "metadata": {},
   "source": [
    "- character - `\"1\"` - character - `\"2\"` - character - `\"3\"` - stored in binary format - key takeaway - no matter what type using - to the computer it is all ones and zeros - python is keeping track of what the ones and zeros mean - in terms of if it is an integer - straightforward - bits from right to left - $2^{0}$ - $2^{1}$ - $2^{2}$ - $2^{3}$ - $2^{4}$ - $2^{5}$ - $2^{6}$ - $2^{7}$ - floating point numbers more complex - strings and characters - essentially stored as integers - each individual character in a string is stored as an integer - but those integers are then translated using a lookup table - ASCII table - the integer - `0` - means a certain character - integer - `65` - means - `A` - so strings are really just arrays of integers whereby before they are displayed on the screen are translated using a table full of squiggles - squiggle that looks like an - `A` - printed on the screen if the value of the integer in a string - `65` - all stored as ones and zeros - perfectly common to have a look at the integer version of a character - asking not to translate that character into whatever squiggle it looks like on the screen to show the actual number - so strings and integers translate into each other fairly seamlessly [1]"
   ]
  },
  {
   "cell_type": "markdown",
   "metadata": {},
   "source": [
    "![ascii](https://github.com/SeanOhAileasa/SeanOhAileasa/blob/master/rc/fda/types/ascii.png?raw=true)"
   ]
  },
  {
   "cell_type": "markdown",
   "metadata": {},
   "source": [
    "***\n",
    "## END"
   ]
  },
  {
   "cell_type": "markdown",
   "metadata": {},
   "source": [
    "< [Table of Contents](#top) | [Abstract](#abstract) | [Introduction](#introduction) | [Solution](#solution) | [Conclusion](#conclusion) | [References](#references) >\n",
    "<a id=\"conclusion\"></a>\n",
    "***\n",
    "## Conclusion\n",
    "***"
   ]
  },
  {
   "cell_type": "markdown",
   "metadata": {},
   "source": [
    "- key point - all data types are meant to help a programmer to keep track of what is happening - they change what operations do - straightforward multiply operation does different things - depending on the type - in the background the computer does not really know much about types - all the computer wants is to know is what to do with all the ones and zeros [1]"
   ]
  },
  {
   "cell_type": "markdown",
   "metadata": {},
   "source": [
    "- types are for humans - all data on the computer is stored in ones and zeros - string - integer - floating point - or even just a whole program is just a string of ones and zeros - all the files on a computer are strings of ones and zeros [1]"
   ]
  },
  {
   "cell_type": "markdown",
   "metadata": {},
   "source": [
    "- can get the computer to show all the ones and zeros on the screen that make up a pdf document - show all of the ones and zeros that make up python.exe - show me all the ones and zeros to make up word.txt - show me all the ones and zeros that make up this notebook - the jupiter program - everything on the computer is just big long strings of ones and zeros [1]"
   ]
  },
  {
   "cell_type": "markdown",
   "metadata": {},
   "source": [
    "- programming languages are a way of providing a nice interface for a human programmer in order to having to keep track of all the different ones and zeros - can think in the english language [1]"
   ]
  },
  {
   "cell_type": "markdown",
   "metadata": {},
   "source": [
    "- types are for humans - everything on the computer is stored in ones and zeros [1]"
   ]
  },
  {
   "cell_type": "markdown",
   "metadata": {},
   "source": [
    "***\n",
    "## END"
   ]
  },
  {
   "cell_type": "markdown",
   "metadata": {},
   "source": [
    "< [Table of Contents](#top) | [Abstract](#abstract) | [Introduction](#introduction) | [Solution](#solution) | [Conclusion](#conclusion) | [References](#references) >\n",
    "<a id=\"references\"></a>\n",
    "***\n",
    "## References\n",
    "***\n",
    "&nbsp;&nbsp;&nbsp;&nbsp;&nbsp;&nbsp;&nbsp;&nbsp;&nbsp;[1] I. McLoughlin, \"Types in programming languages,\" GMIT, September 2020."
   ]
  },
  {
   "cell_type": "markdown",
   "metadata": {},
   "source": [
    "***\n",
    "## END"
   ]
  },
  {
   "cell_type": "markdown",
   "metadata": {},
   "source": [
    "# END JUPYTER NOTEBOOK"
   ]
  }
 ],
 "metadata": {
  "kernelspec": {
   "display_name": "Python 3",
   "language": "python",
   "name": "python3"
  },
  "language_info": {
   "codemirror_mode": {
    "name": "ipython",
    "version": 3
   },
   "file_extension": ".py",
   "mimetype": "text/x-python",
   "name": "python",
   "nbconvert_exporter": "python",
   "pygments_lexer": "ipython3",
   "version": "3.8.8"
  }
 },
 "nbformat": 4,
 "nbformat_minor": 4
}
